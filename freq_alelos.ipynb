{
 "cells": [
  {
   "cell_type": "code",
   "execution_count": null,
   "id": "d39fb781-7bc3-4310-bb77-782b5e928b0f",
   "metadata": {},
   "outputs": [],
   "source": [
    "#frequência dos genótipos\n",
    "print('Qual a frequência do genótipo AA? ')\n",
    "frequencia_AA = input()\n",
    "frequencia_AA = float(frequencia_AA)\n",
    "\n",
    "print('Qual a frequência do genótipo Aa? ')\n",
    "frequencia_Aa = input()\n",
    "frequencia_Aa = float(frequencia_Aa)\n",
    "\n",
    "print('Qual a frequência do genótipo aa? ')\n",
    "frequencia_aa = input()\n",
    "frequencia_aa = float(frequencia_aa)\n",
    "\n",
    "#calcular a frequência dos genotipos\n",
    "alelo_A = frequencia_AA + (frequencia_Aa / 2)  #cada indivíduo Aa contribui com metade de um alelo A\n",
    "alelo_a = frequencia_aa + (frequencia_Aa / 2)  #cada indivíduo Aa contribui com metade de um alelo a\n",
    "\n",
    "print('Frequência do alelo A: ' + str(alelo_A))\n",
    "print('Frequência do alelo a: ' + str(alelo_a))"
   ]
  }
 ],
 "metadata": {
  "kernelspec": {
   "display_name": "Python 3 (ipykernel)",
   "language": "python",
   "name": "python3"
  },
  "language_info": {
   "codemirror_mode": {
    "name": "ipython",
    "version": 3
   },
   "file_extension": ".py",
   "mimetype": "text/x-python",
   "name": "python",
   "nbconvert_exporter": "python",
   "pygments_lexer": "ipython3",
   "version": "3.10.10"
  }
 },
 "nbformat": 4,
 "nbformat_minor": 5
}
